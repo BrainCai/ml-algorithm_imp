{
 "cells": [
  {
   "cell_type": "markdown",
   "metadata": {},
   "source": [
    "### 决策树创建过程：\n",
    "* 检查现在标签是否都是相同的\n",
    "* 是否还有特征<br>\n",
    "**以上两个只要一个不满足就不能再继续**\n",
    "### 决策树执行过程：\n",
    "* 先调用fit\n",
    "* fit调用create_tree\n",
    "* 若可以继续分割，则选择最佳特征"
   ]
  },
  {
   "cell_type": "markdown",
   "metadata": {},
   "source": [
    "### 样本和特征和特征值对应的关系：\n",
    " * 样本与特征是：**多对多**\n",
    " * 特征与特征值是：**多对多**"
   ]
  },
  {
   "cell_type": "markdown",
   "metadata": {},
   "source": [
    "# 注意在每个步骤中使用的是全量数据还是部分子集"
   ]
  },
  {
   "cell_type": "code",
   "execution_count": 1,
   "metadata": {
    "collapsed": true
   },
   "outputs": [],
   "source": [
    "import numpy as np"
   ]
  },
  {
   "cell_type": "markdown",
   "metadata": {},
   "source": [
    "### 信息熵计算\n",
    "* 参数：划分数据子集标签的numpy.array\n",
    "* 实现思路：<br>\n",
    "  **1**、字典存储标签及其总数<br>\n",
    "  **2**、遍历字典，计算每个标签的pi及log(pi)值，求和得到熵"
   ]
  },
  {
   "cell_type": "markdown",
   "metadata": {},
   "source": [
    "##### 实现的错误：\n",
    "* 未注意标签是一个一维数组，所以np.shape[0]\n",
    "* entropy 的计算公式必须乘以 **prob**,且在计算前必须初始化0.0"
   ]
  },
  {
   "cell_type": "code",
   "execution_count": 2,
   "metadata": {
    "collapsed": true
   },
   "outputs": [],
   "source": [
    "def calEntro(label_array):\n",
    "    label_sum = label_array.shape[0]#获取标签的总数，用于占比的计算\n",
    "    label_dict = {}#用于存储标签及其对应的个数\n",
    "    for curr_label in label_array:\n",
    "        if curr_label not in label_dict.keys(): \n",
    "            label_dict[curr_label] = 0#如果不包含必须初始化为0\n",
    "        label_dict[curr_label] += 1 # +1\n",
    "    entropy = 0.0\n",
    "    #根据公式进行计算\n",
    "    for label in list(label_dict.keys()):\n",
    "        prob = label_dict[label]/float(label_sum)\n",
    "        entropy -= prob*np.log2(prob)\n",
    "    return entropy"
   ]
  },
  {
   "cell_type": "markdown",
   "metadata": {},
   "source": [
    "### 划分子数据集\n",
    "* 目的：\n",
    "  * 返回当前第i个特征取值为value时，包含的标签列表sub_y，用于计算熵值\n",
    "  * 返回经过除去该特征后剩余的特征子集，用于以该结点为根再分裂的特征集\n",
    "* 参数：\n",
    "  * X 全量数据集\n",
    "  * label_array 标签\n",
    "  * idx 当前特征的下标\n",
    "  * value 当前特征的特征值"
   ]
  },
  {
   "cell_type": "code",
   "execution_count": 3,
   "metadata": {
    "collapsed": true
   },
   "outputs": [],
   "source": [
    "def split_data_subset(X,label_array,idx,value):\n",
    "    sub_idx = []# 空数组用来存放数据子集的，特征值/标签下标\n",
    "    featVal = X[:,idx]#取出下标为idx特征的特征值\n",
    "    X = X[:,[i for i in range(X.shape[1]) if i != idx]]#取出除去下标为idx特征后的特征子集\n",
    "    #通过遍历当前特征值列表，取出特征值为val的数据子集(包含除去idx特征的特征子集和标签)\n",
    "    for i in range(len(featVal)):\n",
    "        if featVal[i] == value:\n",
    "            sub_idx.append(i)#添加该下标\n",
    "    return X[sub_idx,:],label_array[sub_idx]"
   ]
  },
  {
   "cell_type": "markdown",
   "metadata": {},
   "source": [
    "##### split_data_subset测试"
   ]
  },
  {
   "cell_type": "code",
   "execution_count": 8,
   "metadata": {},
   "outputs": [
    {
     "data": {
      "text/plain": [
       "(array([[1, 1, 0, 1]]), array(['yes'], \n",
       "       dtype='<U3'))"
      ]
     },
     "execution_count": 8,
     "metadata": {},
     "output_type": "execute_result"
    }
   ],
   "source": [
    "X = np.array([[1, 2, 0, 1, 0],\n",
    "         [0, 1, 1, 0, 1],\n",
    "         [1, 0, 0, 0, 1],\n",
    "         [2, 1, 1, 0, 1],\n",
    "         [1, 1, 0, 1, 1]])\n",
    "label_array = np.array(['yes','yes','no','no','no'])\n",
    "idx = 0\n",
    "value = 0\n",
    "split_data_subset(X,label_array,idx,value)"
   ]
  },
  {
   "cell_type": "markdown",
   "metadata": {},
   "source": [
    "### 选取最优特征\n",
    "* 目的：\n",
    "  * 给定X,y 通过比较信息增益选择出当前子集中的最优特征\n",
    "* 参数：\n",
    "  * X-当前子集所有特征列表 y-当前子集所有标签列表\n",
    "* 实现思路：\n",
    "  * 取出当前子集的特征子集\n",
    "  * 遍历当前特征子集\n",
    "  * 计算当前特征值的经验熵\n",
    "  * 返回特征子集中信息增益最大的特征"
   ]
  },
  {
   "cell_type": "code",
   "execution_count": null,
   "metadata": {
    "collapsed": true
   },
   "outputs": [],
   "source": [
    "实现过程中的错误：\n",
    "* 未注意在每个特征值，划分子集时，占整个特征权重，即sub_y占所有标签列表的比例\n",
    "* 参数y的数据结构选择，是np array 还是 list"
   ]
  },
  {
   "cell_type": "code",
   "execution_count": 4,
   "metadata": {
    "collapsed": true
   },
   "outputs": [],
   "source": [
    "def select_best_feature(X,y):\n",
    "    old_entropy = calEntro(y)#当前子集经验熵初始化\n",
    "    #取出当前子集中特征子集\n",
    "    feature_idx_list = X.shape[1]#取出特征子集下标\n",
    "    best_info_gain = 0.0 #最大信息增益\n",
    "    best_feature_idx = -1\n",
    "    for idx in range(feature_idx_list):\n",
    "        feature_val_list = X[:,idx]#取出下标为idx的所有特征值\n",
    "        new_entroy = 0.0\n",
    "        #划分数据集，计算经验熵\n",
    "        unquie_feature_val = set(feature_val_list)\n",
    "        for feature in unquie_feature_val:\n",
    "            sub_x,sub_y = split_data_subset(X,y,idx,feature)\n",
    "            prob = float(len(sub_y))/len(y)\n",
    "            curr_entropy =prob * calEntro(sub_y)#计算经验熵时，只要传当前子集的标签列表即可\n",
    "            new_entroy += curr_entropy #每个特征都会有entropy，所以应当在第一层for循环中声明该变量\n",
    "        info_gain = old_entropy - new_entroy\n",
    "        if (info_gain > best_info_gain):\n",
    "            best_info_gain = info_gain\n",
    "            best_feature_idx = idx\n",
    "    return best_feature_idx"
   ]
  },
  {
   "cell_type": "markdown",
   "metadata": {},
   "source": [
    "##### 测试 最优特征选择"
   ]
  },
  {
   "cell_type": "code",
   "execution_count": null,
   "metadata": {
    "collapsed": true
   },
   "outputs": [],
   "source": [
    "featureIndex = tuple(['x'+str(i) for i in range(X.shape[1])])"
   ]
  },
  {
   "cell_type": "markdown",
   "metadata": {},
   "source": [
    "### 生成决策树\n",
    "* 目的：\n",
    "  * 根据当前的子集，生成决策子树\n",
    "* 参数\n",
    "  * X-该特征值下数据集 y-全量的标签列表 feature_tuple特征集合(注意数据结构的改变)\n",
    "* 实现思路：\n",
    "  * 停止生长的条件校验：\n",
    "     * 当前子集中的标签列表都是一个标签\n",
    "     * 当前子集无特征子集\n",
    "  * 满足可生长条件：\n",
    "     * 选择最优特征生长\n",
    "  * 递归调用该过程\n",
    "  * 此处使用非递归实现即从特征列表删除当前最优特征，利用该特征值切分后的子集继续生长(此处不再是使用全量数据)**理解错误**"
   ]
  },
  {
   "cell_type": "code",
   "execution_count": null,
   "metadata": {
    "collapsed": true
   },
   "outputs": [],
   "source": [
    "问题：\n",
    "* 当前"
   ]
  },
  {
   "cell_type": "code",
   "execution_count": 5,
   "metadata": {
    "collapsed": true
   },
   "outputs": [],
   "source": [
    "def bulid_tree(X,label_array,feature_val_tup):\n",
    "    label_list = list(label_array)#取出全量标签列表\n",
    "    #决策树生长条件校验\n",
    "    if label_list.count(label_array[0]) == len(label_list):\n",
    "        return label_array[0]#\n",
    "    if len(feature_val_tup) == 0:\n",
    "        return \n",
    "    #满足生长条件：选择最优特征并生长\n",
    "    \n",
    "    best_feature_idx = select_best_feature(X,label_array)\n",
    "    feature_val_list = list(feature_val_tup)#转为list remove 该特征\n",
    "    best_feature_val = feature_val_list[best_feature_idx]\n",
    "    feature_val_list.remove(best_feature_val)\n",
    "    feature_val_tup = tuple(feature_val_list)\n",
    "    #以当前的最优特征为根节点的子树{'x0': {}} {'x1': {}} \n",
    "    #从结果分析，x0特征划分后，其\n",
    "    my_tree = {best_feature_val:{}}\n",
    "    feature_val_list = X[:,best_feature_idx]#选取出最优特征的特征值\n",
    "    feature_val_unique = set(feature_val_list)#对该特征的特征值去重\n",
    "    for feature in feature_val_unique:\n",
    "        sub_x,sub_y = split_data_subset(X,label_array,best_feature_idx,feature)#划分数据集\n",
    "        my_tree[best_feature_val][feature] = bulid_tree(sub_x,sub_y,feature_val_tup)#递归调用\n",
    "    return my_tree"
   ]
  },
  {
   "cell_type": "markdown",
   "metadata": {},
   "source": [
    "fit函数：\n",
    "* 参数：\n",
    "   * X——全量的训练数据 lable_array——标签列表\n",
    "* 实现思路：\n",
    "   * 检查数据是否是**numpy.ndarray**类型\n",
    "   * 生成feature_tup\n",
    "   * 调用构建树函数"
   ]
  },
  {
   "cell_type": "code",
   "execution_count": 6,
   "metadata": {},
   "outputs": [],
   "source": [
    "def fit(X,label_array):\n",
    "    if isinstance(X,np.ndarray) & isinstance(label_array,np.ndarray):\n",
    "        pass\n",
    "    else:\n",
    "        try:\n",
    "            X = np.array(X)\n",
    "            label_array = np.array(label_array)\n",
    "        except:\n",
    "            raise Exception('numpy.ndarray required for X label_array')\n",
    "    feature_tup = tuple(['x'+str(i) for i in range(X.shape[1])])\n",
    "    dec_tree = bulid_tree(X,label_array,feature_tup)\n",
    "    return dec_tree"
   ]
  },
  {
   "cell_type": "markdown",
   "metadata": {},
   "source": [
    "##### 测试fit、树生长、选择最优特征"
   ]
  },
  {
   "cell_type": "code",
   "execution_count": 13,
   "metadata": {},
   "outputs": [
    {
     "data": {
      "text/plain": [
       "True"
      ]
     },
     "execution_count": 13,
     "metadata": {},
     "output_type": "execute_result"
    }
   ],
   "source": [
    "X = [[1, 2, 0, 1, 0],\n",
    "     [0, 1, 1, 0, 1],\n",
    "     [1, 0, 0, 0, 1],\n",
    "     [2, 1, 1, 0, 1],\n",
    "     [1, 1, 0, 1, 1]]\n",
    "y = ['yes', 'yes', 'no', 'no', 'no']\n",
    "\n",
    "dec_tree = fit(X,y)\n",
    "isinstance(dec_tree,dict)\n",
    "# {0: 'yes', 1: {'x1': {0: 'no', 1: 'no', 2: 'yes'}}, 2: 'no'}"
   ]
  },
  {
   "cell_type": "markdown",
   "metadata": {},
   "source": [
    "### predict预测\n",
    "* **参数**：\n",
    "  * X - 样本\n",
    "* **目的**：\n",
    "  * 对输入的样本X分类\n",
    "* **实现思路**：\n",
    "  * 校验输入的X是否是numpy.array\n",
    "  * **classify()**--找出子集的所有label—这是个内部函数，：\n",
    "     * **参数**：\n",
    "       * tree-决策树 sample-单个样本\n",
    "     * **思路**:\n",
    "       * 根据tree，取出特征--注意此处是**特征**\n",
    "       * 取出特征的idx，取出样本中的特征值\n",
    "       * 根据特征值，根据字典取出val\n",
    "         * 若Val为字典，则递归调用classify\n",
    "         * 若Val不为字典，则返回label\n",
    "  * 遍历样本**串行分类**即for循环实现。\n"
   ]
  },
  {
   "cell_type": "code",
   "execution_count": 10,
   "metadata": {},
   "outputs": [],
   "source": [
    "def predict(X,tree):\n",
    "    #校验\n",
    "    if isinstance(X,np.ndarray):\n",
    "        pass\n",
    "    else:\n",
    "        try:\n",
    "            X = np.array(X)\n",
    "        except:\n",
    "            raise Exception('X required for numpy.ndarray')\n",
    "#     tree 存储格式：字典的嵌套——递归 这里仅用三个结点\n",
    "#     tree = {child_tree_1,child_tree_2,...,child_tree_n}\n",
    "#     child_tree_N = {feature:{feature_val_1:label_1,feature_val_2:label_2,...,feature_val_n:label_n}}\n",
    "#     child_tree_N  假设叶子结点为倒数第一层结点，即倒数的第二层结点\n",
    "#     child_tree_N = {feature:{child_tree}}非叶子结点\n",
    "#     leaf_node = n*{feature_val:lable}\n",
    "\n",
    "# {'x0': {0: 'yes', 1: {'x1': {0: 'no', 1: 'no', 2: 'yes'}}, 2: 'no'}}\n",
    "    def classify(tree,sample):\n",
    "        feature = tree.keys()[0]#取出当前子树的特征\n",
    "        child_tree_all = tree[feature]#取出当前子树\n",
    "        feature_val = sample[int(feature[1:])]#从该样本中取出当前特征的特征值，feature[1:] 是取出特征idx\n",
    "        child_tree_curr = child_tree_all[feature_val]---------------------\n",
    "        if isinstance(tree[feature_val],dict):\n",
    "            label = classify(child_tree_curr,sample)\n",
    "        else:\n",
    "            label = child_tree_curr\n",
    "        return lable\n",
    "    if len(X.shape) == 1:\n",
    "        classify(tree,X)\n",
    "    else:\n",
    "        result = []\n",
    "#         %debug\n",
    "        for i in range(X.shape[0]):#遍历样本\n",
    "            result.append(classify(X,tree))\n",
    "        return result"
   ]
  },
  {
   "cell_type": "code",
   "execution_count": 78,
   "metadata": {},
   "outputs": [
    {
     "data": {
      "text/plain": [
       "[[1, 2, 0, 1, 0],\n",
       " [0, 1, 1, 0, 1],\n",
       " [1, 0, 0, 0, 1],\n",
       " [2, 1, 1, 0, 1],\n",
       " [1, 1, 0, 1, 1]]"
      ]
     },
     "execution_count": 78,
     "metadata": {},
     "output_type": "execute_result"
    }
   ],
   "source": [
    "X"
   ]
  },
  {
   "cell_type": "code",
   "execution_count": 14,
   "metadata": {},
   "outputs": [
    {
     "data": {
      "text/plain": [
       "{'x0': {0: 'yes', 1: {'x1': {0: 'no', 1: 'no', 2: 'yes'}}, 2: 'no'}}"
      ]
     },
     "execution_count": 14,
     "metadata": {},
     "output_type": "execute_result"
    }
   ],
   "source": [
    "dec_tree"
   ]
  },
  {
   "cell_type": "code",
   "execution_count": 15,
   "metadata": {},
   "outputs": [
    {
     "ename": "AttributeError",
     "evalue": "'numpy.ndarray' object has no attribute 'keys'",
     "output_type": "error",
     "traceback": [
      "\u001b[1;31m---------------------------------------------------------------------------\u001b[0m",
      "\u001b[1;31mAttributeError\u001b[0m                            Traceback (most recent call last)",
      "\u001b[1;32m<ipython-input-15-b50265995f45>\u001b[0m in \u001b[0;36m<module>\u001b[1;34m()\u001b[0m\n\u001b[1;32m----> 1\u001b[1;33m \u001b[0mpredict\u001b[0m\u001b[1;33m(\u001b[0m\u001b[0mX\u001b[0m\u001b[1;33m,\u001b[0m\u001b[0mdec_tree\u001b[0m\u001b[1;33m)\u001b[0m\u001b[1;33m\u001b[0m\u001b[0m\n\u001b[0m",
      "\u001b[1;32m<ipython-input-10-efeece8b6e90>\u001b[0m in \u001b[0;36mpredict\u001b[1;34m(X, tree)\u001b[0m\n\u001b[0;32m     32\u001b[0m \u001b[1;31m#         %debug\u001b[0m\u001b[1;33m\u001b[0m\u001b[1;33m\u001b[0m\u001b[0m\n\u001b[0;32m     33\u001b[0m         \u001b[1;32mfor\u001b[0m \u001b[0mi\u001b[0m \u001b[1;32min\u001b[0m \u001b[0mrange\u001b[0m\u001b[1;33m(\u001b[0m\u001b[0mX\u001b[0m\u001b[1;33m.\u001b[0m\u001b[0mshape\u001b[0m\u001b[1;33m[\u001b[0m\u001b[1;36m0\u001b[0m\u001b[1;33m]\u001b[0m\u001b[1;33m)\u001b[0m\u001b[1;33m:\u001b[0m\u001b[1;31m#遍历样本\u001b[0m\u001b[1;33m\u001b[0m\u001b[0m\n\u001b[1;32m---> 34\u001b[1;33m             \u001b[0mresult\u001b[0m\u001b[1;33m.\u001b[0m\u001b[0mappend\u001b[0m\u001b[1;33m(\u001b[0m\u001b[0mclassify\u001b[0m\u001b[1;33m(\u001b[0m\u001b[0mX\u001b[0m\u001b[1;33m,\u001b[0m\u001b[0mtree\u001b[0m\u001b[1;33m)\u001b[0m\u001b[1;33m)\u001b[0m\u001b[1;33m\u001b[0m\u001b[0m\n\u001b[0m\u001b[0;32m     35\u001b[0m         \u001b[1;32mreturn\u001b[0m \u001b[0mresult\u001b[0m\u001b[1;33m\u001b[0m\u001b[0m\n",
      "\u001b[1;32m<ipython-input-10-efeece8b6e90>\u001b[0m in \u001b[0;36mclassify\u001b[1;34m(tree, sample)\u001b[0m\n\u001b[0;32m     17\u001b[0m \u001b[1;31m# {'x0': {0: 'yes', 1: {'x1': {0: 'no', 1: 'no', 2: 'yes'}}, 2: 'no'}}\u001b[0m\u001b[1;33m\u001b[0m\u001b[1;33m\u001b[0m\u001b[0m\n\u001b[0;32m     18\u001b[0m     \u001b[1;32mdef\u001b[0m \u001b[0mclassify\u001b[0m\u001b[1;33m(\u001b[0m\u001b[0mtree\u001b[0m\u001b[1;33m,\u001b[0m\u001b[0msample\u001b[0m\u001b[1;33m)\u001b[0m\u001b[1;33m:\u001b[0m\u001b[1;33m\u001b[0m\u001b[0m\n\u001b[1;32m---> 19\u001b[1;33m         \u001b[0mfeature\u001b[0m \u001b[1;33m=\u001b[0m \u001b[0mtree\u001b[0m\u001b[1;33m.\u001b[0m\u001b[0mkeys\u001b[0m\u001b[1;33m(\u001b[0m\u001b[1;33m)\u001b[0m\u001b[1;33m[\u001b[0m\u001b[1;36m0\u001b[0m\u001b[1;33m]\u001b[0m\u001b[1;31m#取出当前子树的特征\u001b[0m\u001b[1;33m\u001b[0m\u001b[0m\n\u001b[0m\u001b[0;32m     20\u001b[0m         \u001b[0mchild_tree_all\u001b[0m \u001b[1;33m=\u001b[0m \u001b[0mtree\u001b[0m\u001b[1;33m[\u001b[0m\u001b[0mfeature\u001b[0m\u001b[1;33m]\u001b[0m\u001b[1;31m#取出当前子树\u001b[0m\u001b[1;33m\u001b[0m\u001b[0m\n\u001b[0;32m     21\u001b[0m         \u001b[0mfeature_val\u001b[0m \u001b[1;33m=\u001b[0m \u001b[0msample\u001b[0m\u001b[1;33m[\u001b[0m\u001b[0mint\u001b[0m\u001b[1;33m(\u001b[0m\u001b[0mfeature\u001b[0m\u001b[1;33m[\u001b[0m\u001b[1;36m1\u001b[0m\u001b[1;33m:\u001b[0m\u001b[1;33m]\u001b[0m\u001b[1;33m)\u001b[0m\u001b[1;33m]\u001b[0m\u001b[1;31m#从该样本中取出当前特征的特征值，feature[1:] 是取出特征idx\u001b[0m\u001b[1;33m\u001b[0m\u001b[0m\n",
      "\u001b[1;31mAttributeError\u001b[0m: 'numpy.ndarray' object has no attribute 'keys'"
     ]
    }
   ],
   "source": [
    "predict(X,dec_tree)"
   ]
  },
  {
   "cell_type": "code",
   "execution_count": null,
   "metadata": {
    "collapsed": true
   },
   "outputs": [],
   "source": [
    "{'x0': {0: 'yes'}} 解释：是以x0 为根节点的，0 是特征值，yes是label "
   ]
  },
  {
   "cell_type": "markdown",
   "metadata": {},
   "source": [
    "### 信息熵的计算："
   ]
  },
  {
   "cell_type": "markdown",
   "metadata": {},
   "source": [
    "**1**、字典存储标签及其总数<br>\n",
    "**2**、遍历字典，计算每个标签的pi及log(pi)值，求和得到熵"
   ]
  },
  {
   "cell_type": "markdown",
   "metadata": {},
   "source": [
    "### 根据特征划分数据集："
   ]
  },
  {
   "cell_type": "code",
   "execution_count": null,
   "metadata": {
    "collapsed": true
   },
   "outputs": [],
   "source": [
    "**1**、Xi有(去重后)N个特征值，在N个特征值下又可以划分为N类\n",
    "**2**、"
   ]
  },
  {
   "cell_type": "code",
   "execution_count": 39,
   "metadata": {},
   "outputs": [
    {
     "data": {
      "text/plain": [
       "{'q': {}}"
      ]
     },
     "execution_count": 39,
     "metadata": {},
     "output_type": "execute_result"
    }
   ],
   "source": [
    "bestFeatStr = 'q'\n",
    "myTree = {bestFeatStr:{}}\n",
    "myTree"
   ]
  },
  {
   "cell_type": "code",
   "execution_count": 40,
   "metadata": {},
   "outputs": [
    {
     "data": {
      "text/plain": [
       "{'q': {'q': 2}}"
      ]
     },
     "execution_count": 40,
     "metadata": {},
     "output_type": "execute_result"
    }
   ],
   "source": [
    "myTree[bestFeatStr][bestFeatStr] = 2\n",
    "myTree"
   ]
  },
  {
   "cell_type": "code",
   "execution_count": 42,
   "metadata": {},
   "outputs": [],
   "source": [
    "bestFeatStr = 'q'\n",
    "myTree[bestFeatStr][bestFeatStr] = 2"
   ]
  },
  {
   "cell_type": "code",
   "execution_count": 53,
   "metadata": {},
   "outputs": [],
   "source": [
    "myTree= {'x0': {0: 'yes', 1: {'x1': {0: 'no', 1: 'no', 2: 'yes'}}, 2: 'no'}}"
   ]
  },
  {
   "cell_type": "code",
   "execution_count": 54,
   "metadata": {},
   "outputs": [
    {
     "data": {
      "text/plain": [
       "{0: 'yes', 1: {'x1': {0: 'no', 1: 'no', 2: 'yes'}}, 2: 'no'}"
      ]
     },
     "execution_count": 54,
     "metadata": {},
     "output_type": "execute_result"
    }
   ],
   "source": [
    "myTree['x0']"
   ]
  },
  {
   "cell_type": "code",
   "execution_count": 55,
   "metadata": {},
   "outputs": [
    {
     "data": {
      "text/plain": [
       "dict"
      ]
     },
     "execution_count": 55,
     "metadata": {},
     "output_type": "execute_result"
    }
   ],
   "source": [
    "type(myTree)"
   ]
  },
  {
   "cell_type": "code",
   "execution_count": 56,
   "metadata": {},
   "outputs": [
    {
     "data": {
      "text/plain": [
       "{'x1': {0: 'no', 1: 'no', 2: 'yes'}}"
      ]
     },
     "execution_count": 56,
     "metadata": {},
     "output_type": "execute_result"
    }
   ],
   "source": [
    "myTree['x0'][1]"
   ]
  }
 ],
 "metadata": {
  "kernelspec": {
   "display_name": "Python 3",
   "language": "python",
   "name": "python3"
  },
  "language_info": {
   "codemirror_mode": {
    "name": "ipython",
    "version": 3
   },
   "file_extension": ".py",
   "mimetype": "text/x-python",
   "name": "python",
   "nbconvert_exporter": "python",
   "pygments_lexer": "ipython3",
   "version": "3.6.1"
  }
 },
 "nbformat": 4,
 "nbformat_minor": 2
}
